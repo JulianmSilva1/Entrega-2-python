{
 "cells": [
  {
   "cell_type": "code",
   "execution_count": 1,
   "metadata": {},
   "outputs": [],
   "source": [
    "names = \"\"\" Agustin, Yanina, Andrés, Ariadna, Bautista, CAROLINA,\n",
    "CESAR, David, Diego, Dolores, DYLAN, ELIANA, Emanuel, Fabián, Noelia,\n",
    "Francsica', FEDERICO, Fernanda, GONZALO, Nancy \"\"\"\n",
    "goals = [0, 10, 4, 0, 5, 14, 0, 0, 7, 2, 1, 1, 1, 5, 6, 1, 1, 2, 0,\n",
    "11]\n",
    "goals_avoided = [0, 2, 0, 0, 5, 2, 0, 0, 1, 2, 0, 5, 5, 0, 1, 0, 2,\n",
    "3, 0, 0]\n",
    "assists = [0, 5, 1, 0, 5, 2, 0, 0, 1, 2, 1, 5, 5, 0, 1, 0, 2, 3, 1,\n",
    "0]\n"
   ]
  },
  {
   "cell_type": "markdown",
   "metadata": {},
   "source": [
    "## Crear estructura con las estadisticas de los jugadores\n",
    "\n",
    "###### Primero se eliminan los caracteres especiales del string names, luego se transforma en lista.\n",
    "###### Combinamos las listas con la funcion zip().\n",
    "###### Convertimos el objeto zip a lista con tuplas dentro donde el contenido de cada tupla es el nombre, goles, goles salvados y asistencias de cada jugador."
   ]
  },
  {
   "cell_type": "code",
   "execution_count": 2,
   "metadata": {},
   "outputs": [],
   "source": [
    "names= names.replace(\",\",\"\").replace(\"\\'\",\"\")\n",
    "lista_names= names.split()\n",
    "\n",
    "lista_jugadores= zip(lista_names, goals, goals_avoided, assists)\n",
    "lista_jugadores= list(lista_jugadores)"
   ]
  },
  {
   "cell_type": "markdown",
   "metadata": {},
   "source": [
    "## Conocer el nombre y la cantidad de goles del goleador o goleadora."
   ]
  },
  {
   "cell_type": "code",
   "execution_count": 3,
   "metadata": {},
   "outputs": [
    {
     "name": "stdout",
     "output_type": "stream",
     "text": [
      "El goleador o goleadora es CAROLINA con 14 goles\n"
     ]
    }
   ],
   "source": [
    "import calculadora as cal\n",
    "\n",
    "nombre_goleador, goles_goleador= cal.goleador(lista_jugadores)\n",
    "\n",
    "print(f\"El goleador o goleadora es {nombre_goleador} con {goles_goleador} goles\")"
   ]
  },
  {
   "cell_type": "markdown",
   "metadata": {},
   "source": [
    "## Conocer el nombre del jugador o jugadora más influyente"
   ]
  },
  {
   "cell_type": "code",
   "execution_count": 4,
   "metadata": {},
   "outputs": [
    {
     "name": "stdout",
     "output_type": "stream",
     "text": [
      "El jugador o jugadora con mas influencia es CAROLINA\n"
     ]
    }
   ],
   "source": [
    "print(f\"El jugador o jugadora con mas influencia es {cal.masInfluyente(lista_jugadores)}\")"
   ]
  },
  {
   "cell_type": "markdown",
   "metadata": {},
   "source": [
    "## Conocer el promedio de goles por partido del equipo"
   ]
  },
  {
   "cell_type": "code",
   "execution_count": 5,
   "metadata": {},
   "outputs": [
    {
     "name": "stdout",
     "output_type": "stream",
     "text": [
      "El promedio de goles por partido del equipo es 2.84\n"
     ]
    }
   ],
   "source": [
    "print(f\"El promedio de goles por partido del equipo es {cal.promGoles(lista_jugadores)}\")"
   ]
  }
 ],
 "metadata": {
  "kernelspec": {
   "display_name": "venv",
   "language": "python",
   "name": "python3"
  },
  "language_info": {
   "codemirror_mode": {
    "name": "ipython",
    "version": 3
   },
   "file_extension": ".py",
   "mimetype": "text/x-python",
   "name": "python",
   "nbconvert_exporter": "python",
   "pygments_lexer": "ipython3",
   "version": "3.11.4"
  }
 },
 "nbformat": 4,
 "nbformat_minor": 2
}
